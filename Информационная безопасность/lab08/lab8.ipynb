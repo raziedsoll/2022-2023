{
  "cells": [
    {
      "cell_type": "code",
      "execution_count": 1,
      "metadata": {
        "id": "f2phCyxVIV2t"
      },
      "outputs": [],
      "source": [
        "import numpy as np\n",
        "import operator as op\n",
        "import sys"
      ]
    },
    {
      "cell_type": "code",
      "execution_count": 2,
      "metadata": {
        "colab": {
          "base_uri": "https://localhost:8080/"
        },
        "id": "T-aOZ6VTIV2w",
        "outputId": "c855cc44-2830-49e8-a192-a41d02c2595b"
      },
      "outputs": [
        {
          "output_type": "execute_result",
          "data": {
            "text/plain": [
              "22"
            ]
          },
          "metadata": {},
          "execution_count": 2
        }
      ],
      "source": [
        "s1 = \"С Новым Годом, друзья!\"\n",
        "len(s1)"
      ]
    },
    {
      "cell_type": "code",
      "execution_count": 3,
      "metadata": {
        "colab": {
          "base_uri": "https://localhost:8080/"
        },
        "id": "dekjqHZMIV2y",
        "outputId": "256b0320-e43b-4982-ea4c-50b957df4636"
      },
      "outputs": [
        {
          "output_type": "execute_result",
          "data": {
            "text/plain": [
              "22"
            ]
          },
          "metadata": {},
          "execution_count": 3
        }
      ],
      "source": [
        "s2 = \"Лабораторная работа №8\"\n",
        "len(s2)"
      ]
    },
    {
      "cell_type": "code",
      "execution_count": 4,
      "metadata": {
        "id": "WC5-QAqcIV2z"
      },
      "outputs": [],
      "source": [
        "# функция шифрования\n",
        "def encryption(text1, text2):\n",
        "    # работа с первым текстом\n",
        "    print(\"Открытый текст 1: \", text1)\n",
        "    new_text1 = []\n",
        "    for i in text1:\n",
        "        new_text1.append(i.encode(\"cp1251\").hex())\n",
        "    print(\"\\nОткрытый текст 1 в 16-ой системе: \", new_text1)\n",
        "    \n",
        "    # работа со вторым текстом\n",
        "    print(\"\\nОткрытый текст 2: \", text2)\n",
        "    new_text2 = []\n",
        "    for i in text2:\n",
        "        new_text2.append(i.encode(\"cp1251\").hex())\n",
        "    print(\"\\nОткрытый текст 2 в 16-ой системе: \", new_text2)\n",
        "    \n",
        "    # генерация ключа\n",
        "    r = np.random.randint(0, 255, len(text1))\n",
        "    key = [hex(i)[2:] for i in r]\n",
        "    new_key = []\n",
        "    for i in key:\n",
        "            new_key.append(i.encode(\"cp1251\").hex().upper())\n",
        "    print(\"\\nКлюч в 16-ой системе: \", key)\n",
        "    \n",
        "    # получение зашифрованного сообщения из 1 текста\n",
        "    xor_text1 = []\n",
        "    for i in range(len(new_text1)):\n",
        "        xor_text1.append(\"{:02x}\".format(int(key[i], 16) ^ int(new_text1[i], 16)))\n",
        "    print(\"\\nШифротекст 1 в 16-ой системе: \", xor_text1)\n",
        "    # переведу зашифрованное сообщение 1 в строку\n",
        "    en_text1 = bytearray.fromhex(\"\".join(xor_text1)).decode(\"cp1251\")\n",
        "    print(\"\\nШифротекст 1: \", en_text1)\n",
        "    \n",
        "    # получение зашифрованного сообщения из 2 текста\n",
        "    xor_text2 = []\n",
        "    for i in range(len(new_text2)):\n",
        "        xor_text2.append(\"{:02x}\".format(int(key[i], 16) ^ int(new_text2[i], 16)))\n",
        "    print(\"\\nШифротекст 2 в 16-ой системе: \", xor_text2)\n",
        "    # переведу зашифрованное сообщение 2 в строку\n",
        "    en_text2 = bytearray.fromhex(\"\".join(xor_text2)).decode(\"cp1251\")\n",
        "    print(\"\\nШифротекст 2: \", en_text2)\n",
        "    \n",
        "    return key, xor_text1, en_text1, xor_text2, en_text2"
      ]
    },
    {
      "cell_type": "code",
      "execution_count": 5,
      "metadata": {
        "colab": {
          "base_uri": "https://localhost:8080/"
        },
        "id": "niQIczi1IV20",
        "outputId": "7cde398e-5bcc-47f0-ed96-8601435fd619"
      },
      "outputs": [
        {
          "output_type": "stream",
          "name": "stdout",
          "text": [
            "Открытый текст 1:  С Новым Годом, друзья!\n",
            "\n",
            "Открытый текст 1 в 16-ой системе:  ['d1', '20', 'cd', 'ee', 'e2', 'fb', 'ec', '20', 'c3', 'ee', 'e4', 'ee', 'ec', '2c', '20', 'e4', 'f0', 'f3', 'e7', 'fc', 'ff', '21']\n",
            "\n",
            "Открытый текст 2:  Лабораторная работа №8\n",
            "\n",
            "Открытый текст 2 в 16-ой системе:  ['cb', 'e0', 'e1', 'ee', 'f0', 'e0', 'f2', 'ee', 'f0', 'ed', 'e0', 'ff', '20', 'f0', 'e0', 'e1', 'ee', 'f2', 'e0', '20', 'b9', '38']\n",
            "\n",
            "Ключ в 16-ой системе:  ['28', '9c', '6e', '6b', '1', '1', 'd6', '33', '42', '9d', '39', '94', '60', '29', 'a3', 'dc', 'a8', 'e6', 'c1', '2d', 'fc', '4d']\n",
            "\n",
            "Шифротекст 1 в 16-ой системе:  ['f9', 'bc', 'a3', '85', 'e3', 'fa', '3a', '13', '81', '73', 'dd', '7a', '8c', '05', '83', '38', '58', '15', '26', 'd1', '03', '6c']\n",
            "\n",
            "Шифротекст 1:  щјЈ…гъ:\u0013ЃsЭzЊ\u0005ѓ8X\u0015&С\u0003l\n",
            "\n",
            "Шифротекст 2 в 16-ой системе:  ['e3', '7c', '8f', '85', 'f1', 'e1', '24', 'dd', 'b2', '70', 'd9', '6b', '40', 'd9', '43', '3d', '46', '14', '21', '0d', '45', '75']\n",
            "\n",
            "Шифротекст 2:  г|Џ…сб$ЭІpЩk@ЩC=F\u0014!\rEu\n"
          ]
        }
      ],
      "source": [
        "k, t1, et1, t2, et2 = encryption(s1, s2)"
      ]
    },
    {
      "cell_type": "code",
      "execution_count": 6,
      "metadata": {
        "id": "lOD3OSUKIV21"
      },
      "outputs": [],
      "source": [
        "# c1, c2 - шифротексты\n",
        "# p1 - открытый текст сообщения\n",
        "def decryption(c1, c2, p1):\n",
        "   # работа с первым шифротекстом\n",
        "    print(\"Шифротекст 1: \", c1)\n",
        "    new_c1 = []\n",
        "    for i in c1:\n",
        "        new_c1.append(i.encode(\"cp1251\").hex())\n",
        "    print(\"\\nШифротекст 1 в 16-ой системе: \", new_c1)\n",
        "    \n",
        "    # работа со вторым шифротекстом\n",
        "    print(\"\\nШифротекст 2: \", c2)\n",
        "    new_c2 = []\n",
        "    for i in c2:\n",
        "        new_c2.append(i.encode(\"cp1251\").hex())\n",
        "    print(\"\\nШифротекст 2 в 16-ой системе: \", new_c2)\n",
        "    \n",
        "    # работа с открытым текстом\n",
        "    print(\"\\nОткрытый текст 1: \", p1)\n",
        "    new_p1 = []\n",
        "    for i in p1:\n",
        "        new_p1.append(i.encode(\"cp1251\").hex())\n",
        "    print(\"\\nОткрытый текст 1 в 16-ой системе: \", new_p1)\n",
        "    \n",
        "    print(\"\\nНахожу второй открытый текст...\")\n",
        "    \n",
        "    # получение расшифрованного сообщения p2\n",
        "    xor_tmp = []\n",
        "    sp2 = []\n",
        "    for i in range(len(p1)):\n",
        "        xor_tmp.append(\"{:02x}\".format(int(new_c1[i], 16) ^ int(new_c2[i], 16)))\n",
        "        sp2.append(\"{:02x}\".format(int(xor_tmp[i], 16) ^ int(new_p1[i], 16)))\n",
        "    print(\"\\nОткрытый текст 2 в 16-ой системе: \", sp2)\n",
        "    \n",
        "    # переведу расшифрованное сообщение 2 в строку\n",
        "    p2 = bytearray.fromhex(\"\".join(sp2)).decode(\"cp1251\")\n",
        "    print(\"\\nОткрытый текст 2: \", p2)\n",
        "    return p2, sp2"
      ]
    },
    {
      "cell_type": "code",
      "execution_count": 7,
      "metadata": {
        "colab": {
          "base_uri": "https://localhost:8080/"
        },
        "id": "bJQRHPviIV22",
        "outputId": "550d5caa-f2b4-4d4d-b324-1003adcc434c"
      },
      "outputs": [
        {
          "output_type": "stream",
          "name": "stdout",
          "text": [
            "Шифротекст 1:  щјЈ…гъ:\u0013ЃsЭzЊ\u0005ѓ8X\u0015&С\u0003l\n",
            "\n",
            "Шифротекст 1 в 16-ой системе:  ['f9', 'bc', 'a3', '85', 'e3', 'fa', '3a', '13', '81', '73', 'dd', '7a', '8c', '05', '83', '38', '58', '15', '26', 'd1', '03', '6c']\n",
            "\n",
            "Шифротекст 2:  г|Џ…сб$ЭІpЩk@ЩC=F\u0014!\rEu\n",
            "\n",
            "Шифротекст 2 в 16-ой системе:  ['e3', '7c', '8f', '85', 'f1', 'e1', '24', 'dd', 'b2', '70', 'd9', '6b', '40', 'd9', '43', '3d', '46', '14', '21', '0d', '45', '75']\n",
            "\n",
            "Открытый текст 1:  С Новым Годом, друзья!\n",
            "\n",
            "Открытый текст 1 в 16-ой системе:  ['d1', '20', 'cd', 'ee', 'e2', 'fb', 'ec', '20', 'c3', 'ee', 'e4', 'ee', 'ec', '2c', '20', 'e4', 'f0', 'f3', 'e7', 'fc', 'ff', '21']\n",
            "\n",
            "Нахожу второй открытый текст...\n",
            "\n",
            "Открытый текст 2 в 16-ой системе:  ['cb', 'e0', 'e1', 'ee', 'f0', 'e0', 'f2', 'ee', 'f0', 'ed', 'e0', 'ff', '20', 'f0', 'e0', 'e1', 'ee', 'f2', 'e0', '20', 'b9', '38']\n",
            "\n",
            "Открытый текст 2:  Лабораторная работа №8\n"
          ]
        }
      ],
      "source": [
        "s3 = decryption(et1, et2, s1)"
      ]
    },
    {
      "cell_type": "code",
      "execution_count": 7,
      "metadata": {
        "id": "GOhBGEzLIV22"
      },
      "outputs": [],
      "source": []
    }
  ],
  "metadata": {
    "kernelspec": {
      "display_name": "Python 3",
      "language": "python",
      "name": "python3"
    },
    "language_info": {
      "codemirror_mode": {
        "name": "ipython",
        "version": 3
      },
      "file_extension": ".py",
      "mimetype": "text/x-python",
      "name": "python",
      "nbconvert_exporter": "python",
      "pygments_lexer": "ipython3",
      "version": "3.7.3"
    },
    "colab": {
      "provenance": []
    }
  },
  "nbformat": 4,
  "nbformat_minor": 0
}