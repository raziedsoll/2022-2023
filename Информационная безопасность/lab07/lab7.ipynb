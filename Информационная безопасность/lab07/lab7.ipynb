{
 "cells": [
  {
   "cell_type": "code",
   "execution_count": 1,
   "metadata": {},
   "outputs": [],
   "source": [
    "import numpy as np\n",
    "import operator as op\n",
    "import sys"
   ]
  },
  {
   "cell_type": "code",
   "execution_count": 2,
   "metadata": {},
   "outputs": [],
   "source": [
    "s = \"С Новым Годом, друзья!\""
   ]
  },
  {
   "cell_type": "code",
   "execution_count": 3,
   "metadata": {},
   "outputs": [],
   "source": [
    "# функция шифрования\n",
    "def encryption(text):\n",
    "    print(\"Открытый текст: \", text)\n",
    "    new_text = []\n",
    "    for i in text:\n",
    "        new_text.append(i.encode(\"cp1251\").hex())\n",
    "    print(\"\\nОткрытый текст в 16-ой системе: \", new_text)\n",
    "    # генерация ключа\n",
    "    r = np.random.randint(0, 255, len(text))\n",
    "    key = [hex(i)[2:] for i in r]\n",
    "    new_key = []\n",
    "    for i in key:\n",
    "            new_key.append(i.encode(\"cp1251\").hex().upper())\n",
    "    print(\"\\nКлюч в 16-ой системе: \", key)\n",
    "    # получение зашифрованного сообщения\n",
    "    xor_text = []\n",
    "    for i in range(len(new_text)):\n",
    "        xor_text.append(\"{:02x}\".format(int(key[i], 16) ^ int(new_text[i], 16)))\n",
    "    print(\"\\nШифротекст в 16-ой системе: \", xor_text)\n",
    "    # переведу зашифрованное сообщение в строку\n",
    "    en_text = bytearray.fromhex(\"\".join(xor_text)).decode(\"cp1251\")\n",
    "    print(\"\\nШифротекст: \", en_text)\n",
    "    return key, xor_text, en_text"
   ]
  },
  {
   "cell_type": "code",
   "execution_count": 4,
   "metadata": {
    "scrolled": false
   },
   "outputs": [
    {
     "name": "stdout",
     "output_type": "stream",
     "text": [
      "Открытый текст:  С Новым Годом, друзья!\n",
      "\n",
      "Открытый текст в 16-ой системе:  ['d1', '20', 'cd', 'ee', 'e2', 'fb', 'ec', '20', 'c3', 'ee', 'e4', 'ee', 'ec', '2c', '20', 'e4', 'f0', 'f3', 'e7', 'fc', 'ff', '21']\n",
      "\n",
      "Ключ в 16-ой системе:  ['f5', '84', '13', 'b6', '56', 'ae', '5f', '9a', '7f', '70', 'c2', '27', '77', '53', '36', '24', 'ac', 'cd', '9f', 'c7', 'a9', '12']\n",
      "\n",
      "Шифротекст в 16-ой системе:  ['24', 'a4', 'de', '58', 'b4', '55', 'b3', 'ba', 'bc', '9e', '26', 'c9', '9b', '7f', '16', 'c0', '5c', '3e', '78', '3b', '56', '33']\n",
      "\n",
      "Шифротекст:  $¤ЮXґUієјћ&Й›\u0016А\\>x;V3\n"
     ]
    }
   ],
   "source": [
    "k, t, et = encryption(s)"
   ]
  },
  {
   "cell_type": "code",
   "execution_count": 5,
   "metadata": {
    "scrolled": true
   },
   "outputs": [],
   "source": [
    "# функция дешифрования\n",
    "def find_key(text, en_text):\n",
    "    print(\"Открытый текст: \", text)\n",
    "    print(\"\\nШифротекст: \", en_text)\n",
    "    \n",
    "    new_text = []\n",
    "    for i in text:\n",
    "        new_text.append(i.encode(\"cp1251\").hex())\n",
    "    print(\"\\nОткрытый текст в 16-ой системе: \", new_text)\n",
    "    \n",
    "    tmp_text = []\n",
    "    for i in en_text:\n",
    "        tmp_text.append(i.encode(\"cp1251\").hex())\n",
    "    print(\"\\nШифротекст текст в 16-ой системе: \", tmp_text)\n",
    "    \n",
    "    xor_text = [hex(int(k,16)^int(t,16))[2:] for (k,t) in zip(new_text, tmp_text)]\n",
    "    print(\"\\nНайденный ключ в 16-ой системе: \", xor_text)\n",
    "    return xor_text"
   ]
  },
  {
   "cell_type": "code",
   "execution_count": 6,
   "metadata": {},
   "outputs": [
    {
     "name": "stdout",
     "output_type": "stream",
     "text": [
      "Открытый текст:  С Новым Годом, друзья!\n",
      "\n",
      "Шифротекст:  $¤ЮXґUієјћ&Й›\u0016А\\>x;V3\n",
      "\n",
      "Открытый текст в 16-ой системе:  ['d1', '20', 'cd', 'ee', 'e2', 'fb', 'ec', '20', 'c3', 'ee', 'e4', 'ee', 'ec', '2c', '20', 'e4', 'f0', 'f3', 'e7', 'fc', 'ff', '21']\n",
      "\n",
      "Шифротекст текст в 16-ой системе:  ['24', 'a4', 'de', '58', 'b4', '55', 'b3', 'ba', 'bc', '9e', '26', 'c9', '9b', '7f', '16', 'c0', '5c', '3e', '78', '3b', '56', '33']\n",
      "\n",
      "Найденный ключ в 16-ой системе:  ['f5', '84', '13', 'b6', '56', 'ae', '5f', '9a', '7f', '70', 'c2', '27', '77', '53', '36', '24', 'ac', 'cd', '9f', 'c7', 'a9', '12']\n"
     ]
    }
   ],
   "source": [
    "key = find_key(s, et)"
   ]
  },
  {
   "cell_type": "code",
   "execution_count": 7,
   "metadata": {},
   "outputs": [
    {
     "name": "stdout",
     "output_type": "stream",
     "text": [
      "Ключ найден верно\n"
     ]
    }
   ],
   "source": [
    "if k == key:\n",
    "    print(\"Ключ найден верно\")\n",
    "else:\n",
    "    print(\"Ключ наадйен неверно\")"
   ]
  }
 ],
 "metadata": {
  "kernelspec": {
   "display_name": "Python 3",
   "language": "python",
   "name": "python3"
  },
  "language_info": {
   "codemirror_mode": {
    "name": "ipython",
    "version": 3
   },
   "file_extension": ".py",
   "mimetype": "text/x-python",
   "name": "python",
   "nbconvert_exporter": "python",
   "pygments_lexer": "ipython3",
   "version": "3.7.3"
  }
 },
 "nbformat": 4,
 "nbformat_minor": 2
}
